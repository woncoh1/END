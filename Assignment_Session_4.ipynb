{
  "nbformat": 4,
  "nbformat_minor": 0,
  "metadata": {
    "colab": {
      "name": "Assignment_Session_4.ipynb",
      "provenance": [],
      "collapsed_sections": [],
      "toc_visible": true,
      "authorship_tag": "ABX9TyNu8qso4I0FkJtwDKYY8Lr/",
      "include_colab_link": true
    },
    "kernelspec": {
      "name": "python3",
      "display_name": "Python 3"
    },
    "accelerator": "GPU"
  },
  "cells": [
    {
      "cell_type": "markdown",
      "metadata": {
        "id": "view-in-github",
        "colab_type": "text"
      },
      "source": [
        "<a href=\"https://colab.research.google.com/github/woncoh1/END/blob/main/Assignment_Session_4.ipynb\" target=\"_parent\"><img src=\"https://colab.research.google.com/assets/colab-badge.svg\" alt=\"Open In Colab\"/></a>"
      ]
    },
    {
      "cell_type": "markdown",
      "metadata": {
        "id": "zV11lZcanTMj"
      },
      "source": [
        "#Instructions  \n",
        "Use this as a [reference](https://github.com/bentrevett/pytorch-sentiment-analysis/blob/master/2%20-%20Upgraded%20Sentiment%20Analysis.ipynb). \n",
        "\n",
        "Change this code in such a way that:\n",
        "\n",
        "- it has **3** LSTM layers &\n",
        "- it has used a **for loop** to do so in the **forward** function\n",
        "  - see **2. Build the Model**, *1) define model structure*\n",
        "- the dropout value used is **0.2**  \n",
        "  - see **2. Build the Model**, *2) define model constants*\n",
        "- trained on the text that is **reversed** (for example, \"my name is Rohan\"\n",
        " becomes \"Rohan is name my\")\n",
        "  - see **1. Prepare Data**, *3) reverse training text data in-place*\n",
        "  - also, `bidirectional=False`\n",
        "- achieves **87% or more** accuracy  \n",
        "  - After 7 epochs, validation accuracy = **88.36%** and testing accuracy = **86.68%**\n",
        "\n",
        "- once done, share the **Github link** as well (after training on Google Colab, move the file to GitHub).  "
      ]
    },
    {
      "cell_type": "markdown",
      "metadata": {
        "id": "ffAKjtYIQnjf"
      },
      "source": [
        "#1. Prepare Data"
      ]
    },
    {
      "cell_type": "code",
      "metadata": {
        "id": "ltfCnxTYPhyK"
      },
      "source": [
        "# 1) setup preprocessing\n",
        "\n",
        "import torch\n",
        "from torchtext import data\n",
        "\n",
        "SEED = 1234\n",
        "\n",
        "torch.manual_seed(SEED)\n",
        "torch.backends.cudnn.deterministic = True\n",
        "\n",
        "TEXT = data.Field(tokenize = 'spacy', include_lengths = True)\n",
        "LABEL = data.LabelField(dtype = torch.float)"
      ],
      "execution_count": 1,
      "outputs": []
    },
    {
      "cell_type": "code",
      "metadata": {
        "id": "VTuR9_j0d4Pj",
        "colab": {
          "base_uri": "https://localhost:8080/"
        },
        "outputId": "84876cd7-1aa5-4441-d5d9-0eb1f370bc86"
      },
      "source": [
        "# 2) split training and testing data\n",
        "\n",
        "from torchtext import datasets\n",
        "\n",
        "train_data, test_data = datasets.IMDB.splits(TEXT, LABEL)"
      ],
      "execution_count": 2,
      "outputs": [
        {
          "output_type": "stream",
          "text": [
            "\raclImdb_v1.tar.gz:   0%|          | 0.00/84.1M [00:00<?, ?B/s]"
          ],
          "name": "stderr"
        },
        {
          "output_type": "stream",
          "text": [
            "downloading aclImdb_v1.tar.gz\n"
          ],
          "name": "stdout"
        },
        {
          "output_type": "stream",
          "text": [
            "aclImdb_v1.tar.gz: 100%|██████████| 84.1M/84.1M [00:03<00:00, 23.2MB/s]\n"
          ],
          "name": "stderr"
        }
      ]
    },
    {
      "cell_type": "code",
      "metadata": {
        "id": "vB_FqvNHiyfN"
      },
      "source": [
        "# 3) reverse training text data in-place\n",
        "\n",
        "for train_datum in train_data.examples:\n",
        "    vars(train_datum).get('text').reverse()"
      ],
      "execution_count": 3,
      "outputs": []
    },
    {
      "cell_type": "code",
      "metadata": {
        "id": "e_Oni1VQd5c5"
      },
      "source": [
        "# 4) split validation data from training data\n",
        "\n",
        "import random\n",
        "\n",
        "train_data, valid_data = train_data.split(random_state = random.seed(SEED))"
      ],
      "execution_count": 4,
      "outputs": []
    },
    {
      "cell_type": "code",
      "metadata": {
        "id": "SwdOrFAJP9hq",
        "colab": {
          "base_uri": "https://localhost:8080/"
        },
        "outputId": "1dc4051a-c22f-4dcd-8879-1429991a3f5d"
      },
      "source": [
        "# 5) build vocabulary using pre-trained embeddings\n",
        "\n",
        "MAX_VOCAB_SIZE = 25_000\n",
        "\n",
        "TEXT.build_vocab(train_data, \n",
        "                 max_size = MAX_VOCAB_SIZE, \n",
        "                 vectors = \"glove.6B.100d\", \n",
        "                 unk_init = torch.Tensor.normal_)\n",
        "\n",
        "LABEL.build_vocab(train_data)"
      ],
      "execution_count": 5,
      "outputs": [
        {
          "output_type": "stream",
          "text": [
            ".vector_cache/glove.6B.zip: 862MB [06:28, 2.22MB/s]                           \n",
            "100%|█████████▉| 398320/400000 [00:16<00:00, 24225.58it/s]"
          ],
          "name": "stderr"
        }
      ]
    },
    {
      "cell_type": "code",
      "metadata": {
        "id": "WmlBzDLSQCbg"
      },
      "source": [
        "# 6) build data (iterators of training, validation and testing batches)\n",
        "\n",
        "BATCH_SIZE = 64\n",
        "\n",
        "device = torch.device('cuda' if torch.cuda.is_available() else 'cpu')\n",
        "\n",
        "train_iterator, valid_iterator, test_iterator = data.BucketIterator.splits(\n",
        "    (train_data, valid_data, test_data), \n",
        "    batch_size = BATCH_SIZE,\n",
        "    sort_within_batch = True,\n",
        "    device = device) # send data to GPU (if available)"
      ],
      "execution_count": 6,
      "outputs": []
    },
    {
      "cell_type": "markdown",
      "metadata": {
        "id": "77cbpgOXQz6g"
      },
      "source": [
        "#2. Build the Model"
      ]
    },
    {
      "cell_type": "code",
      "metadata": {
        "id": "e4qez07CQNgQ"
      },
      "source": [
        "# 1) define model (neural network) structure\n",
        "\n",
        "import torch.nn as nn\n",
        "\n",
        "class RNN(nn.Module):\n",
        "\n",
        "    #parts list for building blocks\n",
        "    def __init__(self, vocab_size, embedding_dim, hidden_dim, output_dim, \n",
        "                 n_layers, bidirectional, dropout, pad_idx):\n",
        "        \n",
        "        super().__init__()\n",
        "        \n",
        "        self.embedding = nn.Embedding(vocab_size, embedding_dim, \n",
        "                                      padding_idx = pad_idx)\n",
        "        \n",
        "        self.rnns = nn.ModuleList([nn.LSTM(embedding_dim, hidden_dim, \n",
        "                                           bidirectional=bidirectional)])\n",
        "        for _ in range(n_layers - 1):\n",
        "            self.rnns.append(nn.LSTM(hidden_dim, hidden_dim, \n",
        "                                     bidirectional=bidirectional))\n",
        "        \n",
        "        self.fc = nn.Linear(hidden_dim, output_dim)\n",
        "        \n",
        "        self.dropout = nn.Dropout(dropout)\n",
        "    \n",
        "    #step-by-step manual for assembling building blocks    \n",
        "    def forward(self, text, text_lengths):\n",
        "        \n",
        "        #text = [sent len, batch size]\n",
        "        \n",
        "        embedded = self.dropout(self.embedding(text))\n",
        "        \n",
        "        #embedded = [sent len, batch size, emb dim]\n",
        "        \n",
        "        #pack sequence\n",
        "        packed_embedded = nn.utils.rnn.pack_padded_sequence(embedded, text_lengths)\n",
        "        \n",
        "        #stack multiple (3) LSTM layers with dropouts\n",
        "        x = packed_embedded\n",
        "        for rnn in self.rnns:\n",
        "            _, (x, _) = rnn(x)\n",
        "            x = self.dropout(x)\n",
        "        \n",
        "        #x = last hidden states = [1, batch size, hid dim]\n",
        "        hidden = x.squeeze(0)\n",
        "\n",
        "        #hidden = [batch size, hid dim]\n",
        "            \n",
        "        return self.fc(hidden)"
      ],
      "execution_count": 7,
      "outputs": []
    },
    {
      "cell_type": "code",
      "metadata": {
        "id": "qQjiNB6eQWSw"
      },
      "source": [
        "# 2) define model constants\n",
        "\n",
        "INPUT_DIM = len(TEXT.vocab)\n",
        "EMBEDDING_DIM = 100\n",
        "HIDDEN_DIM = 256\n",
        "OUTPUT_DIM = 1\n",
        "N_LAYERS = 3          \n",
        "BIDIRECTIONAL = False #changed from True to False\n",
        "DROPOUT = 0.2         #changed from 0.5 to 0.2\n",
        "PAD_IDX = TEXT.vocab.stoi[TEXT.pad_token]"
      ],
      "execution_count": 8,
      "outputs": []
    },
    {
      "cell_type": "code",
      "metadata": {
        "id": "Z1c22Q58Tfeu"
      },
      "source": [
        "# 3) instantiate model\n",
        "\n",
        "model = RNN(INPUT_DIM, \n",
        "            EMBEDDING_DIM, \n",
        "            HIDDEN_DIM, \n",
        "            OUTPUT_DIM, \n",
        "            N_LAYERS, \n",
        "            BIDIRECTIONAL, \n",
        "            DROPOUT, \n",
        "            PAD_IDX)"
      ],
      "execution_count": 9,
      "outputs": []
    },
    {
      "cell_type": "code",
      "metadata": {
        "id": "M9BHTOJ-QY2q",
        "colab": {
          "base_uri": "https://localhost:8080/"
        },
        "outputId": "7e834555-91ce-44fa-9fd3-c5395096ae73"
      },
      "source": [
        "# 4) count number of parameters (weights)\n",
        "\n",
        "def count_parameters(model):\n",
        "    return sum(p.numel() for p in model.parameters() if p.requires_grad)\n",
        "\n",
        "print(f'The model has {count_parameters(model):,} trainable parameters')"
      ],
      "execution_count": 10,
      "outputs": [
        {
          "output_type": "stream",
          "text": [
            "The model has 3,919,721 trainable parameters\n"
          ],
          "name": "stdout"
        }
      ]
    },
    {
      "cell_type": "code",
      "metadata": {
        "id": "1lFn0XbgQbRx",
        "colab": {
          "base_uri": "https://localhost:8080/"
        },
        "outputId": "785733ea-eb1c-4242-9ea2-474a4f4e3a60"
      },
      "source": [
        "# 5) inspect pre-trained embeddings\n",
        "\n",
        "pretrained_embeddings = TEXT.vocab.vectors\n",
        "\n",
        "print(pretrained_embeddings.shape)"
      ],
      "execution_count": 11,
      "outputs": [
        {
          "output_type": "stream",
          "text": [
            "torch.Size([25002, 100])\n"
          ],
          "name": "stdout"
        }
      ]
    },
    {
      "cell_type": "code",
      "metadata": {
        "id": "wdxUfSWAQefW",
        "colab": {
          "base_uri": "https://localhost:8080/"
        },
        "outputId": "5e771900-ead8-49b5-c09e-953b3bf04313"
      },
      "source": [
        "# 6) copy pre-trained embeddings from vocabulary to model\n",
        "\n",
        "model.embedding.weight.data.copy_(pretrained_embeddings)"
      ],
      "execution_count": 12,
      "outputs": [
        {
          "output_type": "execute_result",
          "data": {
            "text/plain": [
              "tensor([[-0.1117, -0.4966,  0.1631,  ...,  1.2647, -0.2753, -0.1325],\n",
              "        [-0.8555, -0.7208,  1.3755,  ...,  0.0825, -1.1314,  0.3997],\n",
              "        [-0.0382, -0.2449,  0.7281,  ..., -0.1459,  0.8278,  0.2706],\n",
              "        ...,\n",
              "        [-0.3970,  0.4024,  1.0612,  ..., -0.0136, -0.3363,  0.6442],\n",
              "        [-0.5197,  1.0395,  0.2092,  ..., -0.8857, -0.2294,  0.1244],\n",
              "        [ 0.0057, -0.0707, -0.0804,  ..., -0.3292, -0.0130,  0.0716]])"
            ]
          },
          "metadata": {
            "tags": []
          },
          "execution_count": 12
        }
      ]
    },
    {
      "cell_type": "code",
      "metadata": {
        "id": "PdmZ5uTEQhT2",
        "colab": {
          "base_uri": "https://localhost:8080/"
        },
        "outputId": "f6032071-9eea-4b02-da70-aa5fb9fdec61"
      },
      "source": [
        "# 7) zero weights for <unk> and <pad> tokens\n",
        "\n",
        "UNK_IDX = TEXT.vocab.stoi[TEXT.unk_token]\n",
        "\n",
        "model.embedding.weight.data[UNK_IDX] = torch.zeros(EMBEDDING_DIM)\n",
        "model.embedding.weight.data[PAD_IDX] = torch.zeros(EMBEDDING_DIM)\n",
        "\n",
        "print(model.embedding.weight.data)"
      ],
      "execution_count": 13,
      "outputs": [
        {
          "output_type": "stream",
          "text": [
            "tensor([[ 0.0000,  0.0000,  0.0000,  ...,  0.0000,  0.0000,  0.0000],\n",
            "        [ 0.0000,  0.0000,  0.0000,  ...,  0.0000,  0.0000,  0.0000],\n",
            "        [-0.0382, -0.2449,  0.7281,  ..., -0.1459,  0.8278,  0.2706],\n",
            "        ...,\n",
            "        [-0.3970,  0.4024,  1.0612,  ..., -0.0136, -0.3363,  0.6442],\n",
            "        [-0.5197,  1.0395,  0.2092,  ..., -0.8857, -0.2294,  0.1244],\n",
            "        [ 0.0057, -0.0707, -0.0804,  ..., -0.3292, -0.0130,  0.0716]])\n"
          ],
          "name": "stdout"
        }
      ]
    },
    {
      "cell_type": "markdown",
      "metadata": {
        "id": "P7aC8WYjQ3iE"
      },
      "source": [
        "#3. Train the Model"
      ]
    },
    {
      "cell_type": "code",
      "metadata": {
        "id": "IAZtX1HjRB68"
      },
      "source": [
        "# 1) build optimizer (Adam)\n",
        "\n",
        "import torch.optim as optim\n",
        "\n",
        "optimizer = optim.Adam(model.parameters())"
      ],
      "execution_count": 14,
      "outputs": []
    },
    {
      "cell_type": "code",
      "metadata": {
        "id": "9lw5lC6wRCYJ"
      },
      "source": [
        "# 2) build loss function (Sigmoid + Binary Cross-Entropy Loss in one layer)\n",
        "\n",
        "criterion = nn.BCEWithLogitsLoss()"
      ],
      "execution_count": 15,
      "outputs": []
    },
    {
      "cell_type": "code",
      "metadata": {
        "id": "4bUNcYc4UEp1"
      },
      "source": [
        "# 3) send model and loss to GPU (if available)\n",
        "\n",
        "model = model.to(device)\n",
        "criterion = criterion.to(device)"
      ],
      "execution_count": 16,
      "outputs": []
    },
    {
      "cell_type": "code",
      "metadata": {
        "id": "8zKPoMdeRJI7"
      },
      "source": [
        "# 4) define how to calculate accuracy for training, validation and testing\n",
        "\n",
        "def binary_accuracy(preds, y):\n",
        "    \"\"\"\n",
        "    Returns accuracy per batch, \n",
        "    i.e. if you get 8/10 right, this returns 0.8, NOT 8\n",
        "    \"\"\"\n",
        "\n",
        "    #round predictions to the closest integer\n",
        "    rounded_preds = torch.round(torch.sigmoid(preds))\n",
        "    correct = (rounded_preds == y).float() #convert into float for division \n",
        "    acc = correct.sum() / len(correct)\n",
        "    return acc"
      ],
      "execution_count": 17,
      "outputs": []
    },
    {
      "cell_type": "code",
      "metadata": {
        "id": "9VvTaukgRNxy"
      },
      "source": [
        "# 5) define how to train the model\n",
        "\n",
        "def train(model, iterator, optimizer, criterion):\n",
        "    \n",
        "    epoch_loss = 0\n",
        "    epoch_acc = 0\n",
        "    \n",
        "    model.train()\n",
        "    \n",
        "    for batch in iterator:\n",
        "        \n",
        "        optimizer.zero_grad()\n",
        "        \n",
        "        text, text_lengths = batch.text\n",
        "\n",
        "        #runtime type is GPU, while model expects CPU tensor\n",
        "        text_lengths = text_lengths.cpu()\n",
        "\n",
        "        predictions = model(text, text_lengths).squeeze(1)\n",
        "        \n",
        "        loss = criterion(predictions, batch.label)\n",
        "        \n",
        "        acc = binary_accuracy(predictions, batch.label)\n",
        "        \n",
        "        loss.backward()\n",
        "        \n",
        "        optimizer.step()\n",
        "        \n",
        "        epoch_loss += loss.item()\n",
        "        epoch_acc += acc.item()\n",
        "        \n",
        "    return epoch_loss / len(iterator), epoch_acc / len(iterator)"
      ],
      "execution_count": 18,
      "outputs": []
    },
    {
      "cell_type": "code",
      "metadata": {
        "id": "zdihIJrpRQWB"
      },
      "source": [
        "# 6) define how to evaluate the model\n",
        "\n",
        "def evaluate(model, iterator, criterion):\n",
        "    \n",
        "    epoch_loss = 0\n",
        "    epoch_acc = 0\n",
        "    \n",
        "    model.eval()\n",
        "    \n",
        "    with torch.no_grad():\n",
        "    \n",
        "        for batch in iterator:\n",
        "\n",
        "            text, text_lengths = batch.text\n",
        "            \n",
        "            #runtime type is GPU, while model expects CPU tensor\n",
        "            text_lengths = text_lengths.cpu()\n",
        "\n",
        "            predictions = model(text, text_lengths).squeeze(1)\n",
        "            \n",
        "            loss = criterion(predictions, batch.label)\n",
        "            \n",
        "            acc = binary_accuracy(predictions, batch.label)\n",
        "\n",
        "            epoch_loss += loss.item()\n",
        "            epoch_acc += acc.item()\n",
        "        \n",
        "    return epoch_loss / len(iterator), epoch_acc / len(iterator)"
      ],
      "execution_count": 19,
      "outputs": []
    },
    {
      "cell_type": "code",
      "metadata": {
        "id": "rhQ-743nRULI"
      },
      "source": [
        "# 7) define how to calculate time spent per epoch\n",
        "\n",
        "import time\n",
        "\n",
        "def epoch_time(start_time, end_time):\n",
        "    elapsed_time = end_time - start_time\n",
        "    elapsed_mins = int(elapsed_time / 60)\n",
        "    elapsed_secs = int(elapsed_time - (elapsed_mins * 60))\n",
        "    return elapsed_mins, elapsed_secs"
      ],
      "execution_count": 20,
      "outputs": []
    },
    {
      "cell_type": "code",
      "metadata": {
        "id": "rlAa7wm6RWnU",
        "colab": {
          "base_uri": "https://localhost:8080/"
        },
        "outputId": "6946e78d-f4fe-484e-86ac-fb0cc3f56d07"
      },
      "source": [
        "# 8) data, model, loss and optimizer all come together to actually train model\n",
        "\n",
        "N_EPOCHS = 7\n",
        "\n",
        "best_valid_loss = float('inf')\n",
        "\n",
        "for epoch in range(N_EPOCHS):\n",
        "\n",
        "    start_time = time.time()\n",
        "    \n",
        "    train_loss, train_acc = train(model, train_iterator, optimizer, criterion)\n",
        "    valid_loss, valid_acc = evaluate(model, valid_iterator, criterion)\n",
        "    \n",
        "    end_time = time.time()\n",
        "\n",
        "    epoch_mins, epoch_secs = epoch_time(start_time, end_time)\n",
        "    \n",
        "    if valid_loss < best_valid_loss:\n",
        "        best_valid_loss = valid_loss\n",
        "        torch.save(model.state_dict(), 'tut2-model.pt')\n",
        "    \n",
        "    print(f'Epoch: {epoch+1:02} | Epoch Time: {epoch_mins}m {epoch_secs}s')\n",
        "    print(f'\\tTrain Loss: {train_loss:.3f} | Train Acc: {train_acc*100:.2f}%')\n",
        "    print(f'\\t Val. Loss: {valid_loss:.3f} |  Val. Acc: {valid_acc*100:.2f}%')"
      ],
      "execution_count": 21,
      "outputs": [
        {
          "output_type": "stream",
          "text": [
            "\r100%|█████████▉| 398320/400000 [00:30<00:00, 24225.58it/s]"
          ],
          "name": "stderr"
        },
        {
          "output_type": "stream",
          "text": [
            "Epoch: 01 | Epoch Time: 0m 9s\n",
            "\tTrain Loss: 0.693 | Train Acc: 51.07%\n",
            "\t Val. Loss: 0.692 |  Val. Acc: 55.01%\n",
            "Epoch: 02 | Epoch Time: 0m 9s\n",
            "\tTrain Loss: 0.678 | Train Acc: 56.43%\n",
            "\t Val. Loss: 0.694 |  Val. Acc: 49.15%\n",
            "Epoch: 03 | Epoch Time: 0m 9s\n",
            "\tTrain Loss: 0.693 | Train Acc: 50.54%\n",
            "\t Val. Loss: 0.688 |  Val. Acc: 55.68%\n",
            "Epoch: 04 | Epoch Time: 0m 9s\n",
            "\tTrain Loss: 0.591 | Train Acc: 68.11%\n",
            "\t Val. Loss: 0.646 |  Val. Acc: 58.57%\n",
            "Epoch: 05 | Epoch Time: 0m 9s\n",
            "\tTrain Loss: 0.602 | Train Acc: 67.01%\n",
            "\t Val. Loss: 0.437 |  Val. Acc: 80.23%\n",
            "Epoch: 06 | Epoch Time: 0m 9s\n",
            "\tTrain Loss: 0.335 | Train Acc: 87.05%\n",
            "\t Val. Loss: 0.337 |  Val. Acc: 86.73%\n",
            "Epoch: 07 | Epoch Time: 0m 9s\n",
            "\tTrain Loss: 0.218 | Train Acc: 92.00%\n",
            "\t Val. Loss: 0.318 |  Val. Acc: 88.36%\n"
          ],
          "name": "stdout"
        }
      ]
    },
    {
      "cell_type": "code",
      "metadata": {
        "id": "a3TDUOttRY23",
        "colab": {
          "base_uri": "https://localhost:8080/"
        },
        "outputId": "0549f2eb-15a3-47ae-82b9-d04d15a2a212"
      },
      "source": [
        "# 9) test model using testing dataset\n",
        "\n",
        "model.load_state_dict(torch.load('tut2-model.pt'))\n",
        "\n",
        "test_loss, test_acc = evaluate(model, test_iterator, criterion)\n",
        "\n",
        "print(f'Test Loss: {test_loss:.3f} | Test Acc: {test_acc*100:.2f}%')"
      ],
      "execution_count": 22,
      "outputs": [
        {
          "output_type": "stream",
          "text": [
            "Test Loss: 0.359 | Test Acc: 86.68%\n"
          ],
          "name": "stdout"
        }
      ]
    },
    {
      "cell_type": "markdown",
      "metadata": {
        "id": "V_TFgvjhRwOG"
      },
      "source": [
        "#4. User Input"
      ]
    },
    {
      "cell_type": "code",
      "metadata": {
        "id": "5VjUpreURxyr"
      },
      "source": [
        "# 1) define how to test the model using arbitrary user input\n",
        "\n",
        "import spacy\n",
        "nlp = spacy.load('en')\n",
        "\n",
        "def predict_sentiment(model, sentence):\n",
        "    model.eval()\n",
        "    tokenized = [tok.text for tok in nlp.tokenizer(sentence)]\n",
        "    indexed = [TEXT.vocab.stoi[t] for t in tokenized]\n",
        "    length = [len(indexed)]\n",
        "    tensor = torch.LongTensor(indexed).to(device)\n",
        "    tensor = tensor.unsqueeze(1)\n",
        "    length_tensor = torch.LongTensor(length)\n",
        "    prediction = torch.sigmoid(model(tensor, length_tensor))\n",
        "    return prediction.item()"
      ],
      "execution_count": 23,
      "outputs": []
    },
    {
      "cell_type": "code",
      "metadata": {
        "id": "4AQngH-IRz3o",
        "colab": {
          "base_uri": "https://localhost:8080/"
        },
        "outputId": "29bf68db-711f-4c3d-f5c7-6ca69d34a302"
      },
      "source": [
        "# 2) test model using negative sentence\n",
        "\n",
        "predict_sentiment(model, \"This film is terrible\")"
      ],
      "execution_count": 24,
      "outputs": [
        {
          "output_type": "execute_result",
          "data": {
            "text/plain": [
              "0.11755318194627762"
            ]
          },
          "metadata": {
            "tags": []
          },
          "execution_count": 24
        }
      ]
    },
    {
      "cell_type": "code",
      "metadata": {
        "id": "8sfHOFQ4R1xE",
        "colab": {
          "base_uri": "https://localhost:8080/"
        },
        "outputId": "eaae5092-c730-4568-9a73-9563f2996fe6"
      },
      "source": [
        "# 3) test model using positive sentence\n",
        "\n",
        "predict_sentiment(model, \"This film is great\")"
      ],
      "execution_count": 25,
      "outputs": [
        {
          "output_type": "execute_result",
          "data": {
            "text/plain": [
              "0.5729390978813171"
            ]
          },
          "metadata": {
            "tags": []
          },
          "execution_count": 25
        }
      ]
    }
  ]
}